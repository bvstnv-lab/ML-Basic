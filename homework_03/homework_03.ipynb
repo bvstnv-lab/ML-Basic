{
 "cells": [
  {
   "cell_type": "markdown",
   "id": "e2450ffa",
   "metadata": {},
   "source": [
    "# Домашнее задание: Функции"
   ]
  },
  {
   "cell_type": "markdown",
   "id": "8d062500",
   "metadata": {},
   "source": [
    "## Задание 1: Конвертер регистров\n",
    "\n",
    "Написать функцию, которая будет переводить snake_case в PascalCase и наоборот. \n",
    "\n",
    "Функция должна сама определять - какой формат ей передали. Можно добавить ключевой аргумент, который будет принудительно возвращать один из форматов.\n",
    "\n",
    "<br>\n",
    "\n",
    "**Примеры:**\n",
    "* `otus_course     -> OtusCourse`\n",
    "* `PythonIsTheBest -> python_is_the_best`\n",
    "\n"
   ]
  },
  {
   "cell_type": "code",
   "execution_count": 2,
   "id": "ec0075f5",
   "metadata": {},
   "outputs": [
    {
     "name": "stdin",
     "output_type": "stream",
     "text": [
      "Введите строку  PythonIsTheBest\n"
     ]
    },
    {
     "name": "stdout",
     "output_type": "stream",
     "text": [
      "python_is_the_best\n"
     ]
    }
   ],
   "source": [
    "while True:\n",
    "    ''' повторяем ввод, пока не введен корректный идентификатор'''\n",
    "    line = input('Введите строку ')\n",
    "    if line.isidentifier() and line != '_':\n",
    "        break\n",
    "\n",
    "def convert_case(name:str):\n",
    "    f = 0 # флаг lowercase\n",
    "    F = 0 # флаг uppercase\n",
    "    f_ = 0 # флаг _\n",
    "    s='' # пустая новая строка\n",
    "\n",
    "    for i in name: # проходим по строчке и определяем ее состав\n",
    "        if i.islower():\n",
    "            f=1\n",
    "        elif i.isupper():\n",
    "            F=1\n",
    "        else:\n",
    "            f_=1\n",
    "\n",
    "    if (f==1 and F==0 and f_==0) or (f==0 and F==1 and f_==0): # если только строчные или только прописные - считаем snakecase\n",
    "        s = name.capitalize()\n",
    "        print(s)\n",
    "\n",
    "    elif f_ == 1: # если есть '_' - считаем snakecase\n",
    "        name_list = name.split(sep='_')\n",
    "        for i in range(len(name_list)):\n",
    "            s += name_list[i].capitalize() # делаем первые строчные прописными\n",
    "        print(s)\n",
    "\n",
    "    else:\n",
    "        # случай f==1 and F==1 and f_==0 - если строчные и прописные без '_' - ситаем PascalCase\n",
    "        s = name[0].lower()\n",
    "        for i in range(1,len(name)):\n",
    "            if name[i].isupper():\n",
    "                s = s+'_'+name[i].lower() # добавляем '_' и делаем прописную букву строчной\n",
    "            else:\n",
    "                s += name[i]\n",
    "        print(s)\n",
    "\n",
    "convert_case(line)"
   ]
  },
  {
   "cell_type": "markdown",
   "id": "b8253fb9",
   "metadata": {},
   "source": [
    "## Задание 2: Проверка валидности даты\n",
    "\n",
    "Написать функцию проверяющую валидность введенной даты.\n",
    "\n",
    "<br>\n",
    "\n",
    "**Примеры:**\n",
    "* `29.02.2000 -> True`\n",
    "* `29.02.2001 -> False`\n",
    "* `31.04.1962 -> False`\n",
    "\n"
   ]
  },
  {
   "cell_type": "code",
   "execution_count": 1,
   "id": "e7f4e9c8",
   "metadata": {},
   "outputs": [
    {
     "name": "stdin",
     "output_type": "stream",
     "text": [
      "Введите дату ДД.ММ.ГГГГ  29.02.2000\n"
     ]
    },
    {
     "name": "stdout",
     "output_type": "stream",
     "text": [
      "True\n"
     ]
    }
   ],
   "source": [
    "while True: # проверяем корректность ввода 2*int.2*int.4*int\n",
    "    date=input('Введите дату ДД.ММ.ГГГГ ') \n",
    "    if date.count('.') == 2 and len(date.split(sep='.')[0])==2 and len(date.split(sep='.')[1])==2 and len(date.split(sep='.')[2])==4 and date.replace('.','0').isnumeric():\n",
    "        break\n",
    "\n",
    "def valid_date(dt:str):\n",
    "\n",
    "    dd=int(dt.split(sep='.')[0])\n",
    "    mm=int(dt.split(sep='.')[1])\n",
    "    yyyy=int(dt.split(sep='.')[2])\n",
    "\n",
    "    leap=0\n",
    "    if yyyy % 400 == 0 or (yyyy % 4 == 0 and yyyy % 100 != 0): # проверяем високосный год\n",
    "        leap=1\n",
    "\n",
    "    mmdd={1:31,2:28,3:31,4:30,5:31,6:30,7:31,8:31,9:30,10:31,11:30,12:31}\n",
    "\n",
    "    if leap==0: # если год не високосный - ищем день.месяц по словарю\n",
    "        if mm<13 and dd<=mmdd.get(mm):\n",
    "            print('True')\n",
    "        else:\n",
    "            print('False')\n",
    "\n",
    "    else: # если год високосный - заменяем февраль в словаре и проверяем\n",
    "        mmdd.__setitem__(2,29)\n",
    "        if mm < 13 and dd <= mmdd.get(mm):\n",
    "            print('True')\n",
    "        else:\n",
    "            print('False')\n",
    "\n",
    "valid_date(date)"
   ]
  },
  {
   "cell_type": "markdown",
   "id": "2d77053e",
   "metadata": {},
   "source": [
    "## Задание 3: Проверка на простое число\n",
    "\n",
    "Функция проверки на простое число. Простые числа – это такие числа, которые делятся на себя и на единицу.\n",
    "\n",
    "<br>\n",
    "\n",
    "**Примеры:**\n",
    "* `17 -> True`\n",
    "* `20 -> False`\n",
    "* `23 -> True`"
   ]
  },
  {
   "cell_type": "code",
   "execution_count": 1,
   "id": "c20728f6",
   "metadata": {},
   "outputs": [
    {
     "name": "stdin",
     "output_type": "stream",
     "text": [
      "Введите число больше 0  23\n"
     ]
    },
    {
     "name": "stdout",
     "output_type": "stream",
     "text": [
      "True\n"
     ]
    }
   ],
   "source": [
    "while True: # проверяем ввод целого числа >0\n",
    "    try:\n",
    "        number=int(input('Введите число больше 0 '))\n",
    "        if number > 0:\n",
    "            break\n",
    "    except ValueError: # обрабатываем тип данных\n",
    "        continue\n",
    "\n",
    "def prime_number(n:int):\n",
    "    for i in range(2,n):\n",
    "        if n % i == 0:\n",
    "            print('False')\n",
    "            break\n",
    "    else:\n",
    "        print('True')\n",
    "\n",
    "prime_number(number)"
   ]
  },
  {
   "cell_type": "markdown",
   "id": "29703efe",
   "metadata": {},
   "source": [
    "## Задание 4: Учет пользователей\n",
    "\n",
    "Пользователь в бесконечном цикле вводит данные пользователей: имя, затем фамилию, возраст и ID. Ввод продолжается до тех пор, пока не будет введено пустое поле. \n",
    "\n",
    "Пользователи заносятся в словарь, где ключ это ID пользователя, а остальные данные записываются в виде кортежа. \n",
    "\n",
    "**Программа должна проверять:**\n",
    "* имя и фамилия состоят только из символов и начинаются с большой буквы - если не с большой, то заменяет букву на большую;\n",
    "* возраст должен быть числом от 18 до 60;\n",
    "* ID - целое число, дополненное до 8 знаков незначащими нулями, ID должен быть уникальным.\n",
    "\n",
    "**Дополнительно:** написать функцию, которая будет выводить полученный словарь в виде таблицы."
   ]
  },
  {
   "cell_type": "code",
   "execution_count": 2,
   "id": "54d1f971",
   "metadata": {},
   "outputs": [
    {
     "name": "stdin",
     "output_type": "stream",
     "text": [
      "Введите: Имя Фамилия возраст(от 18 до 60) ID  Иванов Иван 20 1\n",
      "Введите: Имя Фамилия возраст(от 18 до 60) ID  Петров Петр 18 2\n",
      "Введите: Имя Фамилия возраст(от 18 до 60) ID  федоров федор 60 3\n",
      "Введите: Имя Фамилия возраст(от 18 до 60) ID  \n"
     ]
    },
    {
     "name": "stdout",
     "output_type": "stream",
     "text": [
      "Пользователи\n",
      "00000001   Иванов Иван 20\n",
      "00000002   Петров Петр 18\n",
      "00000003   Федоров Федор 60\n"
     ]
    }
   ],
   "source": [
    "users={}\n",
    "name=''\n",
    "sec_name=''\n",
    "age=0\n",
    "id=0\n",
    "while True: #повторяем ввод до пустой строки\n",
    "    line=input('Введите: Имя Фамилия возраст(от 18 до 60) ID ')\n",
    "    if line=='':\n",
    "        break\n",
    "    else: #строку делим на части, проверяем данные\n",
    "        if len(line.split()) != 4: # проверяем количество данных\n",
    "            print('Некорректный ввод. Повторите')\n",
    "            continue\n",
    "\n",
    "        if line.split()[0].isalpha() and line.split()[1].isalpha(): # проверяем имя и фамилию, пишем с большой буквы\n",
    "            name=line.split()[0].capitalize()\n",
    "            sec_name=line.split()[1].capitalize()\n",
    "        else:\n",
    "            print('Некорректные данные. Повторите ввод')\n",
    "            continue\n",
    "\n",
    "        if line.split()[2].isnumeric() and int(line.split()[2]) > 17 and int(line.split()[2]) <61: # проверяем возраст\n",
    "            age=int(line.split()[2])\n",
    "        else:\n",
    "            print('Некорректный возраст. Повторите ввод')\n",
    "            continue\n",
    "\n",
    "        if line.split()[3].isnumeric() and int(line.split()[3]) < 100000000: # проверяем ID\n",
    "            id=line.split()[3].rjust(8,'0')\n",
    "            if users.get(id) != None:\n",
    "                print('ID существует, повторите ввод')\n",
    "                continue\n",
    "        else:\n",
    "            print('Некорректный ID. Повторите ввод')\n",
    "            continue\n",
    "\n",
    "    users.update({id:(name,sec_name,age)})\n",
    "\n",
    "def print_dict(us:dict):\n",
    "     print('Пользователи')\n",
    "     for k in us:\n",
    "         print(k,' ',us.get(k)[0],us.get(k)[1],us.get(k)[2])\n",
    "\n",
    "print_dict(users)"
   ]
  },
  {
   "cell_type": "code",
   "execution_count": null,
   "id": "37cfd5ae-12da-4d01-ba24-bc7b4c1a1d65",
   "metadata": {},
   "outputs": [],
   "source": []
  }
 ],
 "metadata": {
  "kernelspec": {
   "display_name": "Python 3 (ipykernel)",
   "language": "python",
   "name": "python3"
  },
  "language_info": {
   "codemirror_mode": {
    "name": "ipython",
    "version": 3
   },
   "file_extension": ".py",
   "mimetype": "text/x-python",
   "name": "python",
   "nbconvert_exporter": "python",
   "pygments_lexer": "ipython3",
   "version": "3.13.5"
  }
 },
 "nbformat": 4,
 "nbformat_minor": 5
}
