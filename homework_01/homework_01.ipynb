{
 "cells": [
  {
   "cell_type": "markdown",
   "id": "8955a739",
   "metadata": {},
   "source": [
    "# Домашнее задание: Базовые типы данных\n",
    "\n"
   ]
  },
  {
   "cell_type": "markdown",
   "id": "d4e67b86",
   "metadata": {},
   "source": [
    "## Задание 1: Зеркальное отражение цифр\n",
    "\n",
    "Пользователь вводит пятизначное число. Программа должна зеркально отразить три центральные цифры. Первая и последняя остаются на местах.\n",
    "\n",
    "<br>\n",
    "\n",
    "**Примеры:**\n",
    "* `23456 -> 25436`\n",
    "* `30789 -> 38709`"
   ]
  },
  {
   "cell_type": "code",
   "execution_count": null,
   "id": "72718219-51ea-4b9d-9f7a-49f95280ccde",
   "metadata": {},
   "outputs": [],
   "source": [
    "st=str(input())\n",
    "print(st[0]+st[len(st)-2:0:-1]+st[len(st)-1])"
   ]
  },
  {
   "cell_type": "markdown",
   "id": "00b9578b",
   "metadata": {},
   "source": [
    "## Задание 2: Подсчет выходных до отпуска\n",
    "\n",
    "Пользователь вводит сколько дней осталось до ближайшего отпуска. Программа должна вывести количество выходных дней до отпуска, если учесть, что выходные это суббота и воскресенье, сегодня понедельник и праздники мы не учитываем.  \n",
    "\n",
    "<br>\n",
    "\n",
    "**Примеры:**\n",
    "* `4  -> 0`\n",
    "* `6  -> 1`\n",
    "* `14 -> 4`"
   ]
  },
  {
   "cell_type": "code",
   "execution_count": null,
   "id": "07154103",
   "metadata": {},
   "outputs": [],
   "source": [
    "days = int(input())\n",
    "print(days//7*2 + days%7//6)"
   ]
  },
  {
   "cell_type": "markdown",
   "id": "cdde282c",
   "metadata": {},
   "source": [
    "## Задание 3: Плитка шоколада\n",
    "\n",
    "Пользователь вводит длину и ширину плитки шоколада, а также размер куска, который хочет отломить. Программа должна вычислить - можно ли совершить подобный разлом или нет, если учесть, что ломать можно только по прямой.\n",
    "\n",
    "<br>\n",
    "\n",
    "**Примеры:**\n",
    "* `3, 4, 6  -> True`\n",
    "* `5, 7, 8  -> False`\n",
    "* `4, 5, 12 -> True`"
   ]
  },
  {
   "cell_type": "code",
   "execution_count": null,
   "id": "70f3324c",
   "metadata": {},
   "outputs": [],
   "source": [
    "data = input()\n",
    "a = int(data.split(', ')[0])\n",
    "b = int(data.split(', ')[1])\n",
    "c = int(data.split(', ')[2])\n",
    "print(bool(c<=a*b and (c%a==0 or c%b==0)))"
   ]
  },
  {
   "cell_type": "markdown",
   "id": "6470efc1",
   "metadata": {},
   "source": [
    "## Задание 4: Римские числа\n",
    "\n",
    "Пользователь вводит целое положительное число, программа должна вернуть строку в виде римского числа.\n",
    "\n",
    "<br>\n",
    "\n",
    "**Примеры:**\n",
    "* `3   -> III`\n",
    "* `15  -> XV`\n",
    "* `234 -> CCXXXIV`"
   ]
  },
  {
   "cell_type": "code",
   "execution_count": null,
   "id": "8686127c",
   "metadata": {},
   "outputs": [],
   "source": [
    "num = int(input())\n",
    "hund = num//100\n",
    "ten = (num-hund*100)//10\n",
    "unit = (num-hund*100-ten*10)\n",
    "\n",
    "hund_rome = 'C CC CCC CD D DC DCC DCCC CM'\n",
    "ten_rome = 'X XX XXX XL L LX LXX LXXX XC'\n",
    "unit_rome = 'I II III IV V VI VII VIII IX'\n",
    "\n",
    "print(bool(hund)*hund_rome.split()[hund-1]+bool(ten)*ten_rome.split()[ten-1]+bool(unit)*unit_rome.split()[unit-1])"
   ]
  },
  {
   "cell_type": "markdown",
   "id": "ca6a4c0a",
   "metadata": {},
   "source": [
    "## Задание 5: Проверка на вещественное число\n",
    "\n",
    "Пользователь вводит данные, проверить - являются ли они положительным вещественным числом. Не использовать встроенные функции для проверки, только методы данных и конструкцию IF. (Дополнительное задание, по желанию - проверка на отрицательные вещественные числа)\n",
    "\n",
    "<br>\n",
    "\n",
    "**Примеры:**\n",
    "* `5.6  -> True`\n",
    "* `.78  -> True`\n",
    "* `.67. -> False`\n",
    "* `5    -> True`"
   ]
  },
  {
   "cell_type": "code",
   "execution_count": null,
   "id": "74e39179",
   "metadata": {},
   "outputs": [],
   "source": [
    "str = input()\n",
    "if str.count('.')>1:\n",
    "    print('False') # убираем строки с несколькими точками\n",
    "else:\n",
    "    new_str = str.replace('.','0') # в фиктивной строке заменяем точку (при наличии) на 0\n",
    "    print(new_str.isnumeric())  # проверяем, одни ли цифры в фиктивной строке ('1.' считаем вещественным числом,\n",
    "                                # так как float('1.')==1.0"
   ]
  }
 ],
 "metadata": {
  "kernelspec": {
   "display_name": "Python 3 (ipykernel)",
   "language": "python",
   "name": "python3"
  },
  "language_info": {
   "codemirror_mode": {
    "name": "ipython",
    "version": 3
   },
   "file_extension": ".py",
   "mimetype": "text/x-python",
   "name": "python",
   "nbconvert_exporter": "python",
   "pygments_lexer": "ipython3",
   "version": "3.13.5"
  }
 },
 "nbformat": 4,
 "nbformat_minor": 5
}
